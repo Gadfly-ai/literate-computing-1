{
 "cells": [
  {
   "cell_type": "markdown",
   "id": "9271fad8-5a22-4dec-80b8-914b94d487b5",
   "metadata": {},
   "source": [
    "reusable code to initialize each notebook "
   ]
  },
  {
   "cell_type": "code",
   "execution_count": 1,
   "id": "56a20021-6321-4b78-966a-1e98e11c990c",
   "metadata": {},
   "outputs": [],
   "source": [
    "\n",
    "    # boiler plate code to install the literate programming environment on different services.\n",
    "    # this needs to exist before we start using ipython magics.\n",
    "    COLAB = True\n",
    "    try: import google.colab\n",
    "    except: COLAB = False\n",
    "\n",
    "    try: import midgy\n",
    "    except ModuleNotFoundError:\n",
    "        # we only automatically install on colab. \n",
    "        # use the pip installation command below to install midgy otherwise.\n",
    "        !pip install git+https://github.com/deathbeds/midgy\n",
    "\n",
    "    if not get_ipython().has_trait(\"tangle\"):\n",
    "        %reload_ext midgy"
   ]
  },
  {
   "cell_type": "code",
   "execution_count": 2,
   "id": "c003a9e8-dd28-4453-a259-3334198f8496",
   "metadata": {},
   "outputs": [],
   "source": [
    "    from pathlib import Path"
   ]
  },
  {
   "cell_type": "code",
   "execution_count": 3,
   "id": "368474d4-ec10-409d-8be6-9a1c568294d4",
   "metadata": {},
   "outputs": [],
   "source": [
    "import nbconvert"
   ]
  },
  {
   "cell_type": "code",
   "execution_count": 4,
   "id": "88799b2b-fd1d-4c3d-9fd9-19d290643f0b",
   "metadata": {},
   "outputs": [],
   "source": [
    "import bs4"
   ]
  },
  {
   "cell_type": "code",
   "execution_count": 3,
   "id": "c52fa211-7951-467d-9b99-bbfb097eb2d6",
   "metadata": {},
   "outputs": [],
   "source": [
    "    from IPython.display import HTML, Markdown"
   ]
  },
  {
   "cell_type": "code",
   "execution_count": 4,
   "id": "ed12d916-cd9b-4c97-b6ba-06d0168b56bb",
   "metadata": {},
   "outputs": [],
   "source": [
    "def include(file):\n",
    "    file = Path(file)\n",
    "    if file.suffix == \".ipynb\":\n",
    "        return HTML(\"\\n\".join(map(str, bs4.BeautifulSoup(nbconvert.get_exporter(\"a11y\")().from_filename(file)[0], features=\"lxml\").select(\"body\"))))"
   ]
  },
  {
   "cell_type": "code",
   "execution_count": 3,
   "id": "4a8cf413-6763-44c8-8339-ca2f20dfd717",
   "metadata": {},
   "outputs": [
    {
     "data": {
      "text/x-python": [
       "\n",
       "\n",
       "(\"\"\"macro functions used to create elements in this document.\n",
       "it would make the most sense to move this out into a standalone script.\"\"\")\n",
       "\n",
       "def details(summary, body, open=False):\n",
       "    return (\n",
       "    (__import__(\"importlib\").metadata.EntryPoint(None, \"midgy.types:HTML\", None).load()( # ```html\n",
       "\"\"\"<details{open}>\n",
       "    <summary>{summary}</summary>\n",
       "    {body}\n",
       "</details>\n",
       "\"\"\")) # ```\n",
       "    ).format(**locals())\n",
       "\n",
       "def iframe(summary, url, open=False):\n",
       "    (\"\"\"create a lazy loading iframe. lazy loading is helpful for progressively and optionally loading content.\"\"\")\n",
       "\n",
       "    open= open and \" open\" or \"\"\n",
       "    width, height = \"100%\", 600\n",
       "    if \"youtube\" in url:\n",
       "        width, height = 560, 315\n",
       "    return (\n",
       "    (__import__(\"importlib\").metadata.EntryPoint(None, \"midgy.types:HTML\", None).load()( # ```html\n",
       "\"\"\"<details{open}>\n",
       "    <summary>{summary}</summary>\n",
       "<iframe width=\\\"{width}\\\" height=\\\"{height}\\\" loading=lazy src=\\\"{url}\\\"></iframe>\n",
       "</details>\n",
       "\"\"\")) # ```\n",
       "    ).format(**locals()).strip()\n",
       "\n",
       "def quote(quote=\"\", caption=\"\", url=\"\"):\n",
       "    (\"\"\"a quoted phrase with a caption\"\"\")\n",
       "\n",
       "    link = url and \"\" or \"visit source\"\n",
       "    return (\n",
       "    (__import__(\"importlib\").metadata.EntryPoint(None, \"midgy.types:HTML\", None).load()( # ```html\n",
       "\"\"\"<figure>\n",
       "<blockquote cite=\\\"{url}\\\">{quote}</blockquote>\n",
       "<figcaption>{caption} <a href=\\\"{url}\\\">{link}</a></figcaption>\n",
       "</figure>\n",
       "\"\"\")) # ```\n",
       "    ).format(**locals())\n",
       "\n",
       "\n",
       "def clip(url, title, open=False):\n",
       "    open = open and \" open\" or \"\"\n",
       "    return (\n",
       "    (__import__(\"importlib\").metadata.EntryPoint(None, \"midgy.types:HTML\", None).load()( # ```html\n",
       "\"\"\"<details{open}>\n",
       "<summary>\n",
       "youtube clip: {title}\n",
       "</summary>\n",
       "<iframe width=\\\"50%\\\" height=\\\"600\\\" loading=lazy src=\\\"{url}\\\" title=\\\"{title}\\\" frameborder=\\\"0\\\" allow=\\\"accelerometer; autoplay; clipboard-write; encrypted-media; gyroscope; picture-in-picture; web-share\\\" referrerpolicy=\\\"strict-origin-when-cross-origin\\\" allowfullscreen></iframe>\n",
       "</details>\n",
       "</figure>\n",
       "\"\"\")) # ```\n",
       "    ).format(**locals())\n"
      ]
     },
     "metadata": {},
     "output_type": "display_data"
    }
   ],
   "source": [
    "%%\n",
    "\n",
    "macro functions used to create elements in this document.\n",
    "it would make the most sense to move this out into a standalone script.\n",
    "\n",
    "    def details(summary, body, open=False):\n",
    "        return (\n",
    "```html\n",
    "<details{open}>\n",
    "    <summary>{summary}</summary>\n",
    "    {body}\n",
    "</details>\n",
    "```\n",
    "        ).format(**locals())\n",
    "\n",
    "    def iframe(summary, url, open=False):\n",
    "create a lazy loading iframe. lazy loading is helpful for progressively and optionally loading content.\n",
    "        \n",
    "        open= open and \" open\" or \"\"\n",
    "        width, height = \"100%\", 600\n",
    "        if \"youtube\" in url:\n",
    "            width, height = 560, 315\n",
    "        return (\n",
    "```html\n",
    "<details{open}>\n",
    "    <summary>{summary}</summary>\n",
    "<iframe width=\"{width}\" height=\"{height}\" loading=lazy src=\"{url}\"></iframe>\n",
    "</details>\n",
    "```\n",
    "        ).format(**locals()).strip()\n",
    "\n",
    "    def quote(quote=\"\", caption=\"\", url=\"\"):\n",
    "a quoted phrase with a caption\n",
    "\n",
    "        link = url and \"\" or \"visit source\"\n",
    "        return (\n",
    "```html\n",
    "<figure>\n",
    "<blockquote cite=\"{url}\">{quote}</blockquote>\n",
    "<figcaption>{caption} <a href=\"{url}\">{link}</a></figcaption>\n",
    "</figure>\n",
    "```\n",
    "        ).format(**locals())\n",
    "\n",
    "\n",
    "    def clip(url, title, open=False):\n",
    "        open = open and \" open\" or \"\"\n",
    "        return (\n",
    "```html\n",
    "<details{open}>\n",
    "<summary>\n",
    "youtube clip: {title}\n",
    "</summary>\n",
    "<iframe width=\"50%\" height=\"600\" loading=lazy src=\"{url}\" title=\"{title}\" frameborder=\"0\" allow=\"accelerometer; autoplay; clipboard-write; encrypted-media; gyroscope; picture-in-picture; web-share\" referrerpolicy=\"strict-origin-when-cross-origin\" allowfullscreen></iframe>\n",
    "</details>\n",
    "</figure>\n",
    "```\n",
    "        ).format(**locals())"
   ]
  },
  {
   "cell_type": "code",
   "execution_count": null,
   "id": "85ce2c63-cc80-4bc6-8684-79de4fcdc1b1",
   "metadata": {},
   "outputs": [],
   "source": []
  },
  {
   "cell_type": "code",
   "execution_count": null,
   "id": "2fd5a0f8-d9b0-4ae6-a694-27f75ef8e66f",
   "metadata": {},
   "outputs": [],
   "source": []
  }
 ],
 "metadata": {
  "kernelspec": {
   "display_name": "Python [conda env:p311] *",
   "language": "python",
   "name": "conda-env-p311-py"
  },
  "language_info": {
   "codemirror_mode": {
    "name": "ipython",
    "version": 3
   },
   "file_extension": ".py",
   "mimetype": "text/x-python",
   "name": "python",
   "nbconvert_exporter": "python",
   "pygments_lexer": "ipython3",
   "version": "3.11.6"
  },
  "widgets": {
   "application/vnd.jupyter.widget-state+json": {
    "state": {},
    "version_major": 2,
    "version_minor": 0
   }
  }
 },
 "nbformat": 4,
 "nbformat_minor": 5
}
