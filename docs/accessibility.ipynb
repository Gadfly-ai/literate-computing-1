{
 "cells": [
  {
   "cell_type": "markdown",
   "id": "9cd0f2bb-2937-4d17-8bbb-72cbcdfc87a4",
   "metadata": {},
   "source": [
    "# acccessibility\n",
    "\n",
    "a document with resources and accessibility guidelines for our accessible course.\n",
    "\n",
    "traditional a11y measures will always train behind the work we are doing.\n",
    "this course is an experiment in an accessible, open-source classroom.\n",
    "when we design our goals are to consider every members personal spacetime\n",
    "and modalities they may need to process things. our goal in course development\n",
    "is to dilate, not erode, any of the courses time and maximize the sensory outputs we provide."
   ]
  },
  {
   "cell_type": "markdown",
   "id": "e6f55b6c-432b-422c-bda0-ac83c3555d34",
   "metadata": {},
   "source": [
    "## TLDR: use plain text\n",
    "\n",
    "it is prudent to listen to documents on synthetic speech devices like a screen reader.\n",
    "the user agent creating the speech looks for text to transform to word sounds. a screen reader can't read what doesn't have type. it makes sense then to start with and prioritize plain text, and NOT the visuals. an extension of this is that it is most efficient to develop early course materials in plain text. for example, an image requires plain text, and conventional alt text practices add text later. a new alternative is to write about the figure and contextual meaning then add the visuals later. this technique prioritizes writing, composition, and accessibility; further, text is a better `git diff`."
   ]
  },
  {
   "cell_type": "markdown",
   "id": "39a70678-fc12-4a70-ae66-07b287db757c",
   "metadata": {},
   "source": [
    "## existing guidances\n",
    "\n",
    "our additional guidances extend other accepted digital accessibility conventions from the following list:\n",
    "\n",
    "* [WCAG 2.2](https://www.w3.org/TR/WCAG22/)\n",
    "* [Inclusive Design Principles](https://inclusivedesignprinciples.info/)\n",
    "* [Making Content Usable for People with Cognitive and Learning Disabilities](https://www.w3.org/TR/coga-usable/)\n",
    "* [Cognitive Exclusion](https://inclusive.microsoft.design/tools-and-activities/InclusiveDesignForCognitionGuidebook.pdf)\n",
    "* [accessible social media](https://www.accessible-social.com/)\n",
    "* [Guidance on Applying WCAG 2 to Non-Web Information and Communications Technologies](https://www.w3.org/TR/wcag2ict-22/)"
   ]
  },
  {
   "cell_type": "markdown",
   "id": "6a05b92e-47a6-4cdd-b6e2-f90ef1eb3eed",
   "metadata": {},
   "source": [
    "## guidelines for course content\n",
    "\n",
    "| Subjective Priority | Guideline | References |\n",
    "|----|-----|------|\n",
    "| A | assume and design for low numeracy | this effects A LOT of people so it is high priority https://accessiblenumbers.com/ |\n",
    "| A | anchors go somewhere and buttons do something | https://css-tricks.com/a-complete-guide-to-links-and-buttons/ |\n",
    "| A | one h1, headings are naturally order for assistive technology users | https://www.tpgi.com/heading-off-confusion-when-do-headings-fail-wcag/ |\n",
    "| A | there is a visual table of contents | |\n",
    "| AA | all nonvisual information is captured in plain text | |\n",
    "| AA | all visual information is captured in plain text | |\n",
    "| AA | all audible information has plain text | |\n",
    "| AA  | course content is available 1 day before class | |\n",
    "| AAA | Prefer plain language | https://www.plainlanguage.gov/ | \n",
    "| AAA | design for cognition | [microsoft design for cognition](https://inclusive.microsoft.design/tools-and-activities/InclusiveDesignForCognitionGuidebook.pdf) |\n",
    "| AAA | external images and iframes lazy load | https://developer.mozilla.org/en-US/docs/Web/Performance/Lazy_loading |\n",
    "| AAA | inaccessibilities are clearly marked | |\n",
    "| AAA | course content is available 3 days before class | | \n",
    "| AAA | pre-recorded videos are made available | this puts a lot of work on the class leaders and SHOULD NOT de-rail teaching goals |\n",
    "| AAA | listen to content with assistive technology or a synthetic voice system | recommends doing this as a passive out of band task | "
   ]
  },
  {
   "cell_type": "markdown",
   "id": "3d3eefc8-6d1b-4dff-b9ed-3123f39e6d70",
   "metadata": {},
   "source": [
    "## guidelines for asynchronous communication\n",
    "\n",
    "| Subjective Priority | Guideline | References |\n",
    "|---------------------|-----------|------------|\n",
    "| A | Github Discussions are the primary source of truth for an event | |\n",
    "| A | There are notification 1hr, 30min, 10min before class | |\n",
    "| AA | Discord is not used a source of truth |"
   ]
  },
  {
   "cell_type": "code",
   "execution_count": null,
   "id": "0be0bc04-b851-48e0-8fce-28a82f71045b",
   "metadata": {},
   "outputs": [],
   "source": []
  }
 ],
 "metadata": {
  "kernelspec": {
   "display_name": "Python [conda env:root]",
   "language": "python",
   "name": "conda-root-py"
  },
  "language_info": {
   "codemirror_mode": {
    "name": "ipython",
    "version": 3
   },
   "file_extension": ".py",
   "mimetype": "text/x-python",
   "name": "python",
   "nbconvert_exporter": "python",
   "pygments_lexer": "ipython3",
   "version": "3.10.8"
  },
  "widgets": {
   "application/vnd.jupyter.widget-state+json": {
    "state": {},
    "version_major": 2,
    "version_minor": 0
   }
  }
 },
 "nbformat": 4,
 "nbformat_minor": 5
}
