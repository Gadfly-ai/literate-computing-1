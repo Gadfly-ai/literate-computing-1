{
 "cells": [
  {
   "cell_type": "markdown",
   "id": "352848d4-4b7a-4d93-80da-552b1f894c50",
   "metadata": {},
   "source": [
    "# create a hypermedia collage\n",
    "\n",
    "combine your media and others media to create a collage of ideas.\n",
    "the final collage may be physical OR digital.\n",
    "some folks may choose to experiment with printing and digitizing\n",
    "\n",
    "\n",
    "https://css-tricks.com/snippets/css/complete-guide-grid/"
   ]
  },
  {
   "cell_type": "code",
   "execution_count": 1,
   "id": "135b5419-450f-4847-9b26-c7a27c797864",
   "metadata": {},
   "outputs": [
    {
     "data": {
      "text/x-python": [
       "\n",
       "\n",
       "(\"\"\"macro functions used to create elements in this document.\n",
       "it would make the most sense to move this out into a standalone script.\"\"\")\n",
       "\n",
       "def details(summary, body, open=False):\n",
       "    return (\n",
       "    (__import__(\"importlib\").metadata.EntryPoint(None, \"midgy.types:HTML\", None).load()( # ```html\n",
       "\"\"\"<details{open}>\n",
       "    <summary>{summary}</summary>\n",
       "    {body}\n",
       "</details>\n",
       "\"\"\")) # ```\n",
       "    ).format(**locals())\n",
       "\n",
       "def iframe(summary, url, open=False):\n",
       "    (\"\"\"create a lazy loading iframe. lazy loading is helpful for progressively and optionally loading content.\"\"\")\n",
       "\n",
       "    open= open and \" open\" or \"\"\n",
       "    width, height = \"100%\", 600\n",
       "    if \"youtube\" in url:\n",
       "        width, height = 560, 315\n",
       "    return (\n",
       "    (__import__(\"importlib\").metadata.EntryPoint(None, \"midgy.types:HTML\", None).load()( # ```html\n",
       "\"\"\"<details{open}>\n",
       "    <summary>{summary}</summary>\n",
       "<iframe width=\\\"{width}\\\" height=\\\"{height}\\\" loading=lazy src=\\\"{url}\\\"></iframe>\n",
       "</details>\n",
       "\"\"\")) # ```\n",
       "    ).format(**locals()).strip()\n",
       "\n",
       "def quote(quote=\"\", caption=\"\", url=\"\"):\n",
       "    (\"\"\"a quoted phrase with a caption\"\"\")\n",
       "\n",
       "    link = url and \"\" or \"visit source\"\n",
       "    return (\n",
       "    (__import__(\"importlib\").metadata.EntryPoint(None, \"midgy.types:HTML\", None).load()( # ```html\n",
       "\"\"\"<figure>\n",
       "<blockquote cite=\\\"{url}\\\">{quote}</blockquote>\n",
       "<figcaption>{caption} <a href=\\\"{url}\\\">{link}</a></figcaption>\n",
       "</figure>\n",
       "\"\"\")) # ```\n",
       "    ).format(**locals())\n",
       "\n",
       "\n",
       "def clip(url, title, open=False):\n",
       "    open = open and \" open\" or \"\"\n",
       "    return (\n",
       "    (__import__(\"importlib\").metadata.EntryPoint(None, \"midgy.types:HTML\", None).load()( # ```html\n",
       "\"\"\"<details{open}>\n",
       "<summary>\n",
       "youtube clip: {title}\n",
       "</summary>\n",
       "<iframe width=\\\"50%\\\" height=\\\"600\\\" loading=lazy src=\\\"{url}\\\" title=\\\"{title}\\\" frameborder=\\\"0\\\" allow=\\\"accelerometer; autoplay; clipboard-write; encrypted-media; gyroscope; picture-in-picture; web-share\\\" referrerpolicy=\\\"strict-origin-when-cross-origin\\\" allowfullscreen></iframe>\n",
       "</details>\n",
       "</figure>\n",
       "\"\"\")) # ```\n",
       "    ).format(**locals())\n"
      ]
     },
     "metadata": {},
     "output_type": "display_data"
    }
   ],
   "source": [
    "%run ../init.ipynb"
   ]
  },
  {
   "cell_type": "code",
   "execution_count": null,
   "id": "7ff531ac-d9f0-485d-a47c-eea059feea3a",
   "metadata": {},
   "outputs": [],
   "source": [
    "{{iframe(\"beauty is embarassing\")}}"
   ]
  },
  {
   "cell_type": "markdown",
   "id": "93512a2c-6ae7-40f9-bd7a-9b4c236a1d61",
   "metadata": {},
   "source": [
    "print you work\n",
    "screen shot and chop\n",
    "\n",
    "\n",
    "experiment with flex and grid display"
   ]
  },
  {
   "cell_type": "code",
   "execution_count": null,
   "id": "dfcd3e1d-bc9a-4ba0-bcde-d8d0b071e0df",
   "metadata": {},
   "outputs": [],
   "source": [
    "%%\n"
   ]
  },
  {
   "cell_type": "code",
   "execution_count": 9,
   "id": "aba356a9-cd95-42e3-8c57-3dcb6d3cbade",
   "metadata": {},
   "outputs": [
    {
     "data": {
      "text/html": [
       "<style>#discs {\n",
       "    display: grid;\n",
       "    grid-template-columns: 2in 2in 2in;\n",
       "    li::marker {\n",
       "        content: \"\";\n",
       "    }\n",
       "}\n",
       "</style>"
      ],
      "text/plain": [
       "'#discs {\\n    display: grid;\\n    grid-template-columns: 2in 2in 2in;\\n    li::marker {\\n        content: \"\";\\n    }\\n}\\n'"
      ]
     },
     "metadata": {},
     "output_type": "display_data"
    },
    {
     "data": {
      "text/html": [
       "<pre><code>display\\\n",
       "</code></pre>\n",
       "<pre><code class=\"css\"><div class=\"highlight\" style=\"background: #f8f8f8\"><pre style=\"line-height: 125%;\"><span></span>#<span style=\"color: #0000FF; font-weight: bold\">discs</span><span style=\"color: #bbbbbb\"> </span>{\n",
       "<span style=\"color: #bbbbbb\">    </span><span style=\"color: #008000; font-weight: bold\">display</span>:<span style=\"color: #bbbbbb\"> </span><span style=\"color: #008000; font-weight: bold\">grid</span>;\n",
       "<span style=\"color: #bbbbbb\">    </span><span style=\"color: #008000; font-weight: bold\">grid-template-columns</span>:<span style=\"color: #bbbbbb\"> </span><span style=\"color: #666666\">2</span><span style=\"color: #B00040\">in</span><span style=\"color: #bbbbbb\"> </span><span style=\"color: #666666\">2</span><span style=\"color: #B00040\">in</span><span style=\"color: #bbbbbb\"> </span><span style=\"color: #666666\">2</span><span style=\"color: #B00040\">in</span>;\n",
       "<span style=\"color: #bbbbbb\">    </span>li:<span style=\"color: #666666\">:</span><span style=\"color: #008000; font-weight: bold\">marker</span><span style=\"color: #bbbbbb\"> </span><span style=\"border: 1px solid #FF0000\">{</span>\n",
       "<span style=\"color: #bbbbbb\">        </span><span style=\"color: #008000; font-weight: bold\">content</span><span style=\"color: #666666\">:</span><span style=\"color: #bbbbbb\"> </span><span style=\"color: #BA2121\">&quot;&quot;</span>;\n",
       "<span style=\"color: #bbbbbb\">    </span>}\n",
       "<span style=\"border: 1px solid #FF0000\">}</span>\n",
       "</pre></div>\n",
       "</code></pre>\n",
       "<ol id=discs>\n",
       "<li><img src=\"https://gadfly-ai.github.io/literate-computing-1/poster.png\"></li>\n",
       "<li><img src=\"https://gadfly-ai.github.io/literate-computing-1/poster.png\"></li>\n",
       "<li><img src=\"https://gadfly-ai.github.io/literate-computing-1/poster.png\"></li>\n",
       "<li><img src=\"https://gadfly-ai.github.io/literate-computing-1/poster.png\"></li>\n",
       "<li><img src=\"https://gadfly-ai.github.io/literate-computing-1/poster.png\"></li>\n",
       "<li><img src=\"https://gadfly-ai.github.io/literate-computing-1/poster.png\"></li>\n",
       "<li><img src=\"https://gadfly-ai.github.io/literate-computing-1/poster.png\"></li>\n",
       "<li><img src=\"https://gadfly-ai.github.io/literate-computing-1/poster.png\"></li>\n",
       "<li><img src=\"https://gadfly-ai.github.io/literate-computing-1/poster.png\"></li>\n",
       "<li><img src=\"https://gadfly-ai.github.io/literate-computing-1/poster.png\"></li>\n",
       "<li><img src=\"https://gadfly-ai.github.io/literate-computing-1/poster.png\"></li>\n",
       "<li><img src=\"https://gadfly-ai.github.io/literate-computing-1/poster.png\"></li>\n",
       "</ol>"
      ],
      "text/x-python": [
       "\n",
       "display\\\n",
       "(__import__(\"importlib\").metadata.EntryPoint(None, \"midgy.types:Css\", None).load()( # ```css\n",
       "\"\"\"#discs {\n",
       "    display: grid;\n",
       "    grid-template-columns: 2in 2in 2in;\n",
       "    li::marker {\n",
       "        content: \\\"\\\";\n",
       "    }\n",
       "}\n",
       "\"\"\")) # ```\n",
       "(\"\"\"<ol id=discs>{% for object in range(12) %}\n",
       "<li><img src=\\\"https://gadfly-ai.github.io/literate-computing-1/poster.png\\\"></li>\n",
       "{% endfor %}</ol>\"\"\");\n"
      ]
     },
     "metadata": {},
     "output_type": "display_data"
    }
   ],
   "source": [
    "%%\n",
    "    display\\\n",
    "```css\n",
    "#discs {\n",
    "    display: grid;\n",
    "    grid-template-columns: 2in 2in 2in;\n",
    "    li::marker {\n",
    "        content: \"\";\n",
    "    }\n",
    "}\n",
    "```\n",
    "<ol id=discs>{% for object in range(12) %}\n",
    "<li><img src=\"https://gadfly-ai.github.io/literate-computing-1/poster.png\"></li>\n",
    "{% endfor %}</ol>"
   ]
  }
 ],
 "metadata": {
  "kernelspec": {
   "display_name": "Python [conda env:p311] *",
   "language": "python",
   "name": "conda-env-p311-py"
  },
  "language_info": {
   "codemirror_mode": {
    "name": "ipython",
    "version": 3
   },
   "file_extension": ".py",
   "mimetype": "text/x-python",
   "name": "python",
   "nbconvert_exporter": "python",
   "pygments_lexer": "ipython3",
   "version": "3.11.6"
  },
  "widgets": {
   "application/vnd.jupyter.widget-state+json": {
    "state": {},
    "version_major": 2,
    "version_minor": 0
   }
  }
 },
 "nbformat": 4,
 "nbformat_minor": 5
}
