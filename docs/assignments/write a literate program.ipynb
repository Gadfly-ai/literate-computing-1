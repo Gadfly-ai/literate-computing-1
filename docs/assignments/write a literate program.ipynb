{
 "cells": [
  {
   "cell_type": "markdown",
   "id": "80252a6c-2455-4e06-a4ee-eb565ae346c7",
   "metadata": {},
   "source": [
    "# writing assignment #1: write a notebook or markdown document about a piece of code or media\n",
    "\n",
    "<dl>\n",
    "    <dt>prompt</dt>\n",
    "    <dd>write a literate program in either markdown or a notebook.</dd>\n",
    "    <dt>why</dt>\n",
    "    <dd>it is hard to know our audience, but we can learn about ourselves. we tasked with creating a work for these programs focus on writing what you may want to read in the future. be your best audience.</dd>\n",
    "    <dt>goals</dt>\n",
    "<dd>\n",
    "    \n",
    "* practice writing\n",
    "* practice markdown/html\n",
    "* practice compassion and care for ourselves\n",
    "* practice non-judgement - write for the sake of writing\n",
    "* practice communicating interests\n",
    "\n",
    "</dd>\n",
    "<dt>non-goals</dt>\n",
    "<dd>\n",
    "    \n",
    "* practice reading\n",
    "* practice fixing code\n",
    "* practice styling/css\n",
    "\n",
    "</dd>\n",
    "    \n",
    "</dl>"
   ]
  },
  {
   "cell_type": "markdown",
   "id": "69f5939f-75a4-4add-9ca8-4a18a4006aa1",
   "metadata": {},
   "source": [
    "## practical tricks for putting hypermedia in a document"
   ]
  },
  {
   "cell_type": "markdown",
   "id": "a90b9100-a932-45cc-a32e-3ae0540611d3",
   "metadata": {},
   "source": [
    "### rich displays in notebooks"
   ]
  },
  {
   "cell_type": "code",
   "execution_count": 20,
   "id": "e704d944-a4ea-489e-84c6-aa83805a8da1",
   "metadata": {},
   "outputs": [],
   "source": [
    "    from IPython.display import *"
   ]
  },
  {
   "cell_type": "code",
   "execution_count": 13,
   "id": "3fe93e6a-6882-43e8-bda0-a117a6111e09",
   "metadata": {},
   "outputs": [
    {
     "data": {
      "text/html": [
       "<h3>hypermedia in markdown</h3>\n",
       "<p>markdown is a super-set of html.<sup class=\"footnote-ref\"><a href=\"#fn10\" id=\"fnref10\">[10]</a></sup></p>\n",
       "<pre><code>Markdown and HTML, display, object\n",
       "</code></pre>\n",
       "<h1></h1>\n",
       "</>"
      ],
      "text/x-python": [
       "\n",
       "(\"\"\"### hypermedia in markdown\n",
       "\n",
       "markdown is a super-set of html.[^caveat]\"\"\")\n",
       "\n",
       "Markdown and HTML, display, object\n",
       "\n",
       "(\"\"\"[^caveat]: #\"\"\");\n"
      ]
     },
     "metadata": {},
     "output_type": "display_data"
    }
   ],
   "source": [
    "%%\n",
    "### hypermedia in markdown\n",
    "\n",
    "markdown is a super-set of html.[^caveat]\n",
    "\n",
    "    Markdown and HTML, display, object\n",
    "\n",
    "[^caveat]: #"
   ]
  }
 ],
 "metadata": {
  "kernelspec": {
   "display_name": "Python [conda env:p311] *",
   "language": "python",
   "name": "conda-env-p311-py"
  },
  "language_info": {
   "codemirror_mode": {
    "name": "ipython",
    "version": 3
   },
   "file_extension": ".py",
   "mimetype": "text/x-python",
   "name": "python",
   "nbconvert_exporter": "python",
   "pygments_lexer": "ipython3",
   "version": "3.11.6"
  },
  "widgets": {
   "application/vnd.jupyter.widget-state+json": {
    "state": {},
    "version_major": 2,
    "version_minor": 0
   }
  }
 },
 "nbformat": 4,
 "nbformat_minor": 5
}
