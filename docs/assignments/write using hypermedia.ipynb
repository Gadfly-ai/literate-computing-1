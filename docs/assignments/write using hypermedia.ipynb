{
 "cells": [
  {
   "cell_type": "markdown",
   "id": "408555ce-eec9-4e2a-861c-f5ab44d65d6e",
   "metadata": {},
   "source": [
    "# write a literate program supplemented with hypermedia\n",
    "> let me introduce the word hypertext to mean a body of written or\n",
    "> pictorial material interconnected in such a complex way that it could not be presented or represented in paper\n",
    "\n",
    "experiment with including sound, videos, images, or interactivity in an essay. there many different learning styles and our goal is make content for as many as possible. when we use hypermedia we extend our content to different learners. practice describing concepts in plain text.\n"
   ]
  },
  {
   "cell_type": "code",
   "execution_count": 17,
   "id": "150e259d-b3f4-4bf5-9aff-817a7e1c32f5",
   "metadata": {},
   "outputs": [
    {
     "data": {
      "text/x-python": [
       "\n",
       "\n",
       "(\"\"\"macro functions used to create elements in this document.\n",
       "it would make the most sense to move this out into a standalone script.\"\"\")\n",
       "\n",
       "def details(summary, body, open=False):\n",
       "    return (\n",
       "    (__import__(\"importlib\").metadata.EntryPoint(None, \"midgy.types:HTML\", None).load()( # ```html\n",
       "\"\"\"<details{open}>\n",
       "    <summary>{summary}</summary>\n",
       "    {body}\n",
       "</details>\n",
       "\"\"\")) # ```\n",
       "    ).format(**locals())\n",
       "\n",
       "def iframe(summary, url, open=False):\n",
       "    (\"\"\"create a lazy loading iframe. lazy loading is helpful for progressively and optionally loading content.\"\"\")\n",
       "\n",
       "    open= open and \" open\" or \"\"\n",
       "    width, height = \"100%\", 600\n",
       "    if \"youtube\" in url:\n",
       "        width, height = 560, 315\n",
       "    return (\n",
       "    (__import__(\"importlib\").metadata.EntryPoint(None, \"midgy.types:HTML\", None).load()( # ```html\n",
       "\"\"\"<details{open}>\n",
       "    <summary>{summary}</summary>\n",
       "<iframe width=\\\"{width}\\\" height=\\\"{height}\\\" loading=lazy src=\\\"{url}\\\"></iframe>\n",
       "</details>\n",
       "\"\"\")) # ```\n",
       "    ).format(**locals()).strip()\n",
       "\n",
       "def quote(quote=\"\", caption=\"\", url=\"\"):\n",
       "    (\"\"\"a quoted phrase with a caption\"\"\")\n",
       "\n",
       "    link = url and \"\" or \"visit source\"\n",
       "    return (\n",
       "    (__import__(\"importlib\").metadata.EntryPoint(None, \"midgy.types:HTML\", None).load()( # ```html\n",
       "\"\"\"<figure>\n",
       "<blockquote cite=\\\"{url}\\\">{quote}</blockquote>\n",
       "<figcaption>{caption} <a href=\\\"{url}\\\">{link}</a></figcaption>\n",
       "</figure>\n",
       "\"\"\")) # ```\n",
       "    ).format(**locals())\n",
       "\n",
       "\n",
       "def clip(url, title, open=False):\n",
       "    open = open and \" open\" or \"\"\n",
       "    return (\n",
       "    (__import__(\"importlib\").metadata.EntryPoint(None, \"midgy.types:HTML\", None).load()( # ```html\n",
       "\"\"\"<details{open}>\n",
       "<summary>\n",
       "youtube clip: {title}\n",
       "</summary>\n",
       "<iframe width=\\\"50%\\\" height=\\\"600\\\" loading=lazy src=\\\"{url}\\\" title=\\\"{title}\\\" frameborder=\\\"0\\\" allow=\\\"accelerometer; autoplay; clipboard-write; encrypted-media; gyroscope; picture-in-picture; web-share\\\" referrerpolicy=\\\"strict-origin-when-cross-origin\\\" allowfullscreen></iframe>\n",
       "</details>\n",
       "</figure>\n",
       "\"\"\")) # ```\n",
       "    ).format(**locals())\n"
      ]
     },
     "metadata": {},
     "output_type": "display_data"
    }
   ],
   "source": [
    "    %run ../init.ipynb"
   ]
  },
  {
   "cell_type": "markdown",
   "id": "f9ee5eb8-1440-403a-92e1-4cf2d86324e1",
   "metadata": {},
   "source": [
    "use html elements and tags you havent before"
   ]
  },
  {
   "cell_type": "markdown",
   "id": "a8edc0e5-da35-4f05-becd-964f9f7d9b9e",
   "metadata": {},
   "source": [
    "## writing assignment #2: write a notebook or markdown document including interactivity and hypermedia\n",
    "\n",
    "\n",
    "learning goals\n",
    "\n",
    "* practice markdown by using order emphasis and hierarchy\n",
    "* practice writing\n",
    "* practice creating plain text describes for visual content\n",
    "\n",
    "a prior example of mars\n",
    "\n",
    "practice writing markdown.\n",
    "\n",
    "## writing support\n",
    "\n",
    "please use discord if you need support in coming up with a writing goal.\n",
    "use your teacher, TA, and classmates to get through these challenges supported.\n",
    "\n",
    "### bounding your ideas\n",
    "\n",
    "a good check for bounding your work is does it __restart and run all__? we will not impose this constraint\n",
    "on our essays just yet. a writer always knows there is more they want to write, with time, you'll get there. for now, try to write about one small idea at a time, if you start adding ideas as if they are needed.\n",
    "\n",
    "a smallest stress richter"
   ]
  },
  {
   "cell_type": "code",
   "execution_count": 19,
   "id": "6a92c5f2-94c1-4acc-b324-dc544d88a626",
   "metadata": {},
   "outputs": [
    {
     "data": {
      "text/html": [
       "<p>the goal of this assignment is to practice writing that is supplemented with either code or hypermedia.</p>\n",
       "<h2>choose 1 one the writing goals below.</h2>\n",
       "<ul>\n",
       "<li>write about some working or broken code</li>\n",
       "<li>write a document with notes and context that will help you in the future.</li>\n",
       "<li>write an essay on a topic combining <a href=\"https://developer.mozilla.org/en-US/docs/Web/HTML/Content_categories#interactive_content\">interactive elements</a> like links and hypermedia.</li>\n",
       "</ul>\n",
       "<h2>choose 1 one of the following topics from below.</h2>\n",
       "<ul>\n",
       "<li>\n",
       "<p>write about code you've writting</p>\n",
       "</li>\n",
       "<li>\n",
       "<p>write about code someone else has written</p>\n",
       "</li>\n",
       "<li>\n",
       "<p>critique a response from a large language model</p>\n",
       "</li>\n",
       "<li>\n",
       "<p>critique an issue</p>\n",
       "</li>\n",
       "<li>\n",
       "<p>write about a piece of media you really like</p>\n",
       "</li>\n",
       "<li>\n",
       "<p>write about an html element you've are unfamiliar with.</p>\n",
       "<p><a href=\"\">@marsbarlee</a> this <a href=\"#\">little piggy went to the market</a>.</p>\n",
       "</li>\n",
       "<li>\n",
       "<p>write about some reference from the <a href=\"literacy.ipynb\">first course</a></p>\n",
       "</li>\n",
       "</ul>\n",
       "<h2>learning goals</h2>\n",
       "<ul>\n",
       "<li>\n",
       "<p>practice writing</p>\n",
       "</li>\n",
       "<li>\n",
       "<p>practice combining markdown and html</p>\n",
       "<p>markdown is a critical communcation tool for participating in open source.\n",
       "often early contributions are to documentation, and markdown is the most popular modern language choice.</p>\n",
       "</li>\n",
       "<li>\n",
       "<p>practice writing about something that interests <em>you</em></p>\n",
       "</li>\n",
       "</ul>\n",
       "<h3>non-goals</h3>\n",
       "<ul>\n",
       "<li>practice reading</li>\n",
       "<li>practice fixing code</li>\n",
       "</ul>\n",
       "< />\n"
      ],
      "text/x-python": [
       "\n",
       "(\"\"\"the goal of this assignment is to practice writing that is supplemented with either code or hypermedia.\n",
       "\n",
       "## choose 1 one the writing goals below.\n",
       "\n",
       "* write about some working or broken code\n",
       "* write a document with notes and context that will help you in the future.\n",
       "* write an essay on a topic combining [interactive elements](https://developer.mozilla.org/en-US/docs/Web/HTML/Content_categories#interactive_content) like links and hypermedia.\n",
       "\n",
       "## choose 1 one of the following topics from below.\n",
       "\n",
       "* write about code you've writting\n",
       "* write about code someone else has written\n",
       "* critique a response from a large language model\n",
       "* critique an issue\n",
       "* write about a piece of media you really like\n",
       "* write about an html element you've are unfamiliar with.\n",
       "\n",
       "    [@marsbarlee]() this [little piggy went to the market].\n",
       "\n",
       "* write about some reference from the [first course](literacy.ipynb)\n",
       "\n",
       "\n",
       "## learning goals\n",
       "\n",
       "* practice writing\n",
       "* practice combining markdown and html\n",
       "\n",
       "     markdown is a critical communcation tool for participating in open source.\n",
       "    often early contributions are to documentation, and markdown is the most popular modern language choice.\n",
       "\n",
       "* practice writing about something that interests _you_\n",
       "\n",
       "### non-goals\n",
       "\n",
       "* practice reading\n",
       "* practice fixing code\n",
       "\n",
       "\n",
       "[little piggy went to the market]: https://github.com/MarsBarLee/writers-workshop/blob/fb4c46f597ebe69438b28d559516eb3ef31e3e62/Writer's%20Workshop%20%233-%20This%20Little%20Piggy....ipynb\"\"\");\n"
      ]
     },
     "metadata": {},
     "output_type": "display_data"
    }
   ],
   "source": [
    "%%\n",
    "the goal of this assignment is to practice writing that is supplemented with either code or hypermedia.\n",
    "\n",
    "## choose 1 one the writing goals below.\n",
    "\n",
    "* write about some working or broken code\n",
    "* write a document with notes and context that will help you in the future.\n",
    "* write an essay on a topic combining [interactive elements](https://developer.mozilla.org/en-US/docs/Web/HTML/Content_categories#interactive_content) like links and hypermedia.\n",
    "\n",
    "## choose 1 one of the following topics from below.\n",
    "\n",
    "* write about code you've writting\n",
    "* write about code someone else has written\n",
    "* critique a response from a large language model\n",
    "* critique an issue\n",
    "* write about a piece of media you really like\n",
    "* write about an html element you've are unfamiliar with.\n",
    "\n",
    "    [@marsbarlee]() this [little piggy went to the market].\n",
    "  \n",
    "* write about some reference from the [first course](literacy.ipynb)\n",
    "\n",
    "\n",
    "## learning goals\n",
    "\n",
    "* practice writing\n",
    "* practice combining markdown and html\n",
    "\n",
    "     markdown is a critical communcation tool for participating in open source.\n",
    "    often early contributions are to documentation, and markdown is the most popular modern language choice.\n",
    "\n",
    "* practice writing about something that interests _you_\n",
    "\n",
    "### non-goals\n",
    "\n",
    "* practice reading\n",
    "* practice fixing code\n",
    "\n",
    "\n",
    "[little piggy went to the market]: https://github.com/MarsBarLee/writers-workshop/blob/fb4c46f597ebe69438b28d559516eb3ef31e3e62/Writer's%20Workshop%20%233-%20This%20Little%20Piggy....ipynb"
   ]
  },
  {
   "cell_type": "markdown",
   "id": "69f5939f-75a4-4add-9ca8-4a18a4006aa1",
   "metadata": {},
   "source": [
    "## practical tricks for putting hypermedia in a document"
   ]
  },
  {
   "cell_type": "markdown",
   "id": "a90b9100-a932-45cc-a32e-3ae0540611d3",
   "metadata": {},
   "source": [
    "### rich displays in notebooks"
   ]
  },
  {
   "cell_type": "code",
   "execution_count": 20,
   "id": "e704d944-a4ea-489e-84c6-aa83805a8da1",
   "metadata": {},
   "outputs": [],
   "source": [
    "    from IPython.display import *"
   ]
  },
  {
   "cell_type": "code",
   "execution_count": 13,
   "id": "3fe93e6a-6882-43e8-bda0-a117a6111e09",
   "metadata": {},
   "outputs": [
    {
     "data": {
      "text/html": [
       "<h3>hypermedia in markdown</h3>\n",
       "<p>markdown is a super-set of html.<sup class=\"footnote-ref\"><a href=\"#fn10\" id=\"fnref10\">[10]</a></sup></p>\n",
       "<pre><code>Markdown and HTML, display, object\n",
       "</code></pre>\n",
       "<h1></h1>\n",
       "</>"
      ],
      "text/x-python": [
       "\n",
       "(\"\"\"### hypermedia in markdown\n",
       "\n",
       "markdown is a super-set of html.[^caveat]\"\"\")\n",
       "\n",
       "Markdown and HTML, display, object\n",
       "\n",
       "(\"\"\"[^caveat]: #\"\"\");\n"
      ]
     },
     "metadata": {},
     "output_type": "display_data"
    }
   ],
   "source": [
    "%%\n",
    "### hypermedia in markdown\n",
    "\n",
    "markdown is a super-set of html.[^caveat]\n",
    "\n",
    "    Markdown and HTML, display, object\n",
    "\n",
    "[^caveat]: #"
   ]
  }
 ],
 "metadata": {
  "kernelspec": {
   "display_name": "Python [conda env:p311] *",
   "language": "python",
   "name": "conda-env-p311-py"
  },
  "language_info": {
   "codemirror_mode": {
    "name": "ipython",
    "version": 3
   },
   "file_extension": ".py",
   "mimetype": "text/x-python",
   "name": "python",
   "nbconvert_exporter": "python",
   "pygments_lexer": "ipython3",
   "version": "3.11.6"
  },
  "widgets": {
   "application/vnd.jupyter.widget-state+json": {
    "state": {},
    "version_major": 2,
    "version_minor": 0
   }
  }
 },
 "nbformat": 4,
 "nbformat_minor": 5
}
