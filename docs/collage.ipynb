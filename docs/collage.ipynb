{
 "cells": [
  {
   "cell_type": "markdown",
   "id": "f530c802-2a86-4350-a8ab-4364b2f3ba10",
   "metadata": {},
   "source": [
    "# multimedia hypercollaging\n",
    "\n",
    "mcluhan when information rubs against information\n",
    "painting vs sculpture"
   ]
  },
  {
   "cell_type": "code",
   "execution_count": null,
   "id": "3691777f-095d-49b9-8168-e4f248350870",
   "metadata": {},
   "outputs": [],
   "source": [
    "https://massmoca.org/event/jenny-holzer-for-north-adams/jenny-projections-square/"
   ]
  },
  {
   "cell_type": "code",
   "execution_count": 2,
   "id": "f01fb8d4-46b5-4336-b08b-5a54c572a5a7",
   "metadata": {},
   "outputs": [
    {
     "data": {
      "text/x-python": [
       "\n",
       "\n",
       "(\"\"\"macro functions used to create elements in this document.\n",
       "it would make the most sense to move this out into a standalone script.\"\"\")\n",
       "\n",
       "def details(summary, body, open=False):\n",
       "    return (\n",
       "    (__import__(\"importlib\").metadata.EntryPoint(None, \"midgy.types:HTML\", None).load()( # ```html\n",
       "\"\"\"<details{open}>\n",
       "    <summary>{summary}</summary>\n",
       "    {body}\n",
       "</details>\n",
       "\"\"\")) # ```\n",
       "    ).format(**locals())\n",
       "\n",
       "def iframe(summary, url, open=False):\n",
       "    (\"\"\"create a lazy loading iframe. lazy loading is helpful for progressively and optionally loading content.\"\"\")\n",
       "\n",
       "    open= open and \" open\" or \"\"\n",
       "    width, height = \"100%\", 600\n",
       "    if \"youtube\" in url:\n",
       "        width, height = 560, 315\n",
       "    return (\n",
       "    (__import__(\"importlib\").metadata.EntryPoint(None, \"midgy.types:HTML\", None).load()( # ```html\n",
       "\"\"\"<details{open}>\n",
       "    <summary>{summary}</summary>\n",
       "<iframe width=\\\"{width}\\\" height=\\\"{height}\\\" loading=lazy src=\\\"{url}\\\"></iframe>\n",
       "</details>\n",
       "\"\"\")) # ```\n",
       "    ).format(**locals()).strip()\n",
       "\n",
       "def quote(quote=\"\", caption=\"\", url=\"\"):\n",
       "    (\"\"\"a quoted phrase with a caption\"\"\")\n",
       "\n",
       "    link = url and \"\" or \"visit source\"\n",
       "    return (\n",
       "    (__import__(\"importlib\").metadata.EntryPoint(None, \"midgy.types:HTML\", None).load()( # ```html\n",
       "\"\"\"<figure>\n",
       "<blockquote cite=\\\"{url}\\\">{quote}</blockquote>\n",
       "<figcaption>{caption} <a href=\\\"{url}\\\">{link}</a></figcaption>\n",
       "</figure>\n",
       "\"\"\")) # ```\n",
       "    ).format(**locals())\n",
       "\n",
       "\n",
       "def clip(url, title, open=False):\n",
       "    open = open and \" open\" or \"\"\n",
       "    return (\n",
       "    (__import__(\"importlib\").metadata.EntryPoint(None, \"midgy.types:HTML\", None).load()( # ```html\n",
       "\"\"\"<details{open}>\n",
       "<summary>\n",
       "youtube clip: {title}\n",
       "</summary>\n",
       "<iframe width=\\\"50%\\\" height=\\\"600\\\" loading=lazy src=\\\"{url}\\\" title=\\\"{title}\\\" frameborder=\\\"0\\\" allow=\\\"accelerometer; autoplay; clipboard-write; encrypted-media; gyroscope; picture-in-picture; web-share\\\" referrerpolicy=\\\"strict-origin-when-cross-origin\\\" allowfullscreen></iframe>\n",
       "</details>\n",
       "</figure>\n",
       "\"\"\")) # ```\n",
       "    ).format(**locals())\n"
      ]
     },
     "metadata": {},
     "output_type": "display_data"
    }
   ],
   "source": [
    "%run init.ipynb"
   ]
  },
  {
   "cell_type": "markdown",
   "id": "d48a62b8-dc37-45df-a722-a0ba5a4f1766",
   "metadata": {},
   "source": [
    "https://www.youtube.com/watch?v=Efz67zwDU6k\n",
    "https://en.wikipedia.org/wiki/L%C3%A1szl%C3%B3_Moholy-Nagy"
   ]
  },
  {
   "cell_type": "code",
   "execution_count": 3,
   "id": "c0259b3d-fd27-4e3d-966f-b03bbce561e4",
   "metadata": {},
   "outputs": [
    {
     "ename": "NameError",
     "evalue": "name 'meowwolf' is not defined",
     "output_type": "error",
     "traceback": [
      "\u001b[0;31m---------------------------------------------------------------------------\u001b[0m",
      "\u001b[0;31mNameError\u001b[0m                                 Traceback (most recent call last)",
      "Cell \u001b[0;32mIn[3], line 1\u001b[0m\n\u001b[0;32m----> 1\u001b[0m \u001b[43mmeowwolf\u001b[49m\n",
      "\u001b[0;31mNameError\u001b[0m: name 'meowwolf' is not defined"
     ]
    }
   ],
   "source": [
    "meowwolf"
   ]
  },
  {
   "cell_type": "code",
   "execution_count": 4,
   "id": "ae8ac89c-11ef-4d4f-bb68-99d52c9e5119",
   "metadata": {},
   "outputs": [
    {
     "data": {
      "text/html": [
       "<details>\n",
       "    <summary>eames</summary>\n",
       "<iframe width=\"100%\" height=\"600\" loading=lazy src=\"https://www.eamesoffice.com/the-work/powers-of-ten/\"></iframe>\n",
       "</details>"
      ],
      "text/x-python": [
       "\n",
       "(\"\"\"{{iframe(\\\"eames\\\", \\\"https://www.eamesoffice.com/the-work/powers-of-ten/\\\")}}\"\"\");\n"
      ]
     },
     "metadata": {},
     "output_type": "display_data"
    }
   ],
   "source": [
    "%%\n",
    "{{iframe(\"eames\", \"https://www.eamesoffice.com/the-work/powers-of-ten/\")}}"
   ]
  },
  {
   "cell_type": "code",
   "execution_count": 3,
   "id": "94afbd12-b79c-45bf-a6ca-535b502ef5e2",
   "metadata": {},
   "outputs": [
    {
     "data": {
      "text/html": [
       "<iframe width=\"560\" height=\"315\" src=\"https://www.youtube.com/embed/PHQ3dTRM6xM?si=mo_TTGrCZoqZNXaZ&amp;clip=UgkxsEnn1ZWaXXiqCn4T9y0p202IghAuBKqD&amp;clipt=EPPGBhj04Ag\" title=\"YouTube video player\" frameborder=\"0\" allow=\"accelerometer; autoplay; clipboard-write; encrypted-media; gyroscope; picture-in-picture; web-share\" referrerpolicy=\"strict-origin-when-cross-origin\" allowfullscreen></iframe>\n"
      ],
      "text/plain": [
       "<IPython.core.display.HTML object>"
      ]
     },
     "metadata": {},
     "output_type": "display_data"
    }
   ],
   "source": [
    "%%html\n",
    "<iframe width=\"560\" height=\"315\" src=\"https://www.youtube.com/embed/PHQ3dTRM6xM?si=mo_TTGrCZoqZNXaZ&amp;clip=UgkxsEnn1ZWaXXiqCn4T9y0p202IghAuBKqD&amp;clipt=EPPGBhj04Ag\" title=\"YouTube video player\" frameborder=\"0\" allow=\"accelerometer; autoplay; clipboard-write; encrypted-media; gyroscope; picture-in-picture; web-share\" referrerpolicy=\"strict-origin-when-cross-origin\" allowfullscreen></iframe>"
   ]
  },
  {
   "cell_type": "markdown",
   "id": "f073a6af-7099-4ea5-943b-de17526d6260",
   "metadata": {},
   "source": [
    "### computational skateparks"
   ]
  },
  {
   "cell_type": "code",
   "execution_count": 6,
   "id": "8a1622bc-4414-4ee4-8d6d-63f36286d581",
   "metadata": {},
   "outputs": [
    {
     "data": {
      "text/html": [
       "<details>\n",
       "    <summary>fritz kahn</summary>\n",
       "<iframe width=\"100%\" height=\"600\" loading=lazy src=\"https://www.fritz-kahn.com/project/ebbe-und-flut-des-festlandes/\"></iframe>\n",
       "</details>\n",
       "<p>guerilla girls</p>\n",
       "<p>mona cholaby</p>\n"
      ],
      "text/x-python": [
       "\n",
       "(\"\"\"{{iframe(\n",
       "    \\\"fritz kahn\\\",\n",
       "    \\\"https://www.fritz-kahn.com/project/ebbe-und-flut-des-festlandes/\\\"\n",
       ")}}\n",
       "\n",
       "guerilla girls\n",
       "\n",
       "mona cholaby\"\"\");\n"
      ]
     },
     "metadata": {},
     "output_type": "display_data"
    }
   ],
   "source": [
    "%%\n",
    "{{iframe(\n",
    "    \"fritz kahn\",\n",
    "    \"https://www.fritz-kahn.com/project/ebbe-und-flut-des-festlandes/\"\n",
    ")}}\n",
    "\n",
    "guerilla girls\n",
    "\n",
    "mona cholaby"
   ]
  },
  {
   "cell_type": "code",
   "execution_count": null,
   "id": "a9314137-c28d-451f-b7bc-555546335e59",
   "metadata": {},
   "outputs": [],
   "source": []
  }
 ],
 "metadata": {
  "kernelspec": {
   "display_name": "Python [conda env:p311] *",
   "language": "python",
   "name": "conda-env-p311-py"
  },
  "language_info": {
   "codemirror_mode": {
    "name": "ipython",
    "version": 3
   },
   "file_extension": ".py",
   "mimetype": "text/x-python",
   "name": "python",
   "nbconvert_exporter": "python",
   "pygments_lexer": "ipython3",
   "version": "3.11.6"
  },
  "widgets": {
   "application/vnd.jupyter.widget-state+json": {
    "state": {},
    "version_major": 2,
    "version_minor": 0
   }
  }
 },
 "nbformat": 4,
 "nbformat_minor": 5
}
