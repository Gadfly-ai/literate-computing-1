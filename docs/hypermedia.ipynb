{
 "cells": [
  {
   "cell_type": "markdown",
   "id": "ec9a870f-7269-49bc-8890-9d44acff4a80",
   "metadata": {},
   "source": [
    "# intertextuality and hypermedia\n",
    "\n",
    "<q>let me introduce the word hypertext to\n",
    "mean a body of written or pictorial material interconnected in such a complex way that it could not be presented or represented in paper</q> \n",
    "\n",
    "ted nelson 1963\n",
    "\n",
    "history is a writing tool.\n",
    "\n",
    "https://en.wikipedia.org/wiki/Intertextuality\n",
    "\n",
    "https://www.technorhetoric.net/1.2/features/eyman/julia.html\n",
    "\n",
    "> In scientific and other scholarly writing intertextuality is core to the collaborative nature of knowledge building and thus citation practices are important to the social organization of fields, the codification of knowledge, and the reward system for professional contribution.[36] Scientists can be skillfully intentional in the use of references to prior work in order to position the contribution of their work.[37][38] Modern practices of scientific citation, however, have only developed since the late eighteenth century[39] and vary across fields, in part influenced by disciplines’ epistemologies.[40]"
   ]
  },
  {
   "cell_type": "markdown",
   "id": "a7c88c47-1740-420d-b6e8-7b5dd6bf0276",
   "metadata": {},
   "source": [
    "lillian schartz"
   ]
  },
  {
   "cell_type": "markdown",
   "id": "ff5a13f9-42ba-4a8b-807b-fc5dbd42c0d7",
   "metadata": {},
   "source": [
    "apple crush https://www.youtube.com/watch?v=ntjkwIXWtrc"
   ]
  },
  {
   "cell_type": "markdown",
   "id": "3480eabc-11f2-47cf-9936-0aa234e8596a",
   "metadata": {},
   "source": [
    "name html tags"
   ]
  },
  {
   "cell_type": "markdown",
   "id": "dab00916-4bd5-4e9f-91b4-cd390d241d01",
   "metadata": {},
   "source": [
    "https://era.library.ualberta.ca/items/bd201794-2cfc-434d-ac53-b6f060b60fa4/view/0e67e5d2-933e-4d43-860d-9a1a8f431a26/AHHHHHHHHHHHHH%20(3).pdf"
   ]
  },
  {
   "cell_type": "markdown",
   "id": "76cfff5c-b823-4e07-ba0f-b9bf989238bb",
   "metadata": {},
   "source": [
    "> let me introduce the word hypertext to\n",
    "mean a body of written or pictorial material interconnected in such a complex way that it could\n",
    "not be presented or represented in paper"
   ]
  },
  {
   "cell_type": "markdown",
   "id": "1d805dfe-e053-4066-b415-fba7b144c997",
   "metadata": {},
   "source": [
    "hypertext accelerates intertextuality"
   ]
  },
  {
   "cell_type": "code",
   "execution_count": 4,
   "id": "bbe43b4c-6af0-4bd5-ac20-2460be3e25df",
   "metadata": {},
   "outputs": [
    {
     "data": {
      "text/html": [
       "<details>\n",
       "    <summary>ted nelson and werner herzog</summary>\n",
       "<iframe width=\"560\" height=\"315\" loading=lazy src=\"https://www.youtube.com/embed/Bqx6li5dbEY\"></iframe>\n",
       "</details>"
      ],
      "text/x-python": [
       "\n",
       "(\"\"\"{{iframe(\n",
       "    \\\"ted nelson and werner herzog\\\",\n",
       "    \\\"https://www.youtube.com/embed/Bqx6li5dbEY\\\"\n",
       ")}}\"\"\");\n"
      ]
     },
     "metadata": {},
     "output_type": "display_data"
    }
   ],
   "source": [
    "%%\n",
    "{{iframe(\n",
    "    \"ted nelson and werner herzog\",\n",
    "    \"https://www.youtube.com/embed/Bqx6li5dbEY\"\n",
    ")}}"
   ]
  },
  {
   "cell_type": "code",
   "execution_count": null,
   "id": "4303ab3a-84a6-4296-998e-c47fbb1a39a5",
   "metadata": {},
   "outputs": [],
   "source": [
    "<iframe width=\"1024\" height=\"576\" src=\"\" title=\"Ted Nelson in Herzog&#39;s &quot;Lo and Behold&quot;\" frameborder=\"0\" allow=\"accelerometer; autoplay; clipboard-write; encrypted-media; gyroscope; picture-in-picture; web-share\" referrerpolicy=\"strict-origin-when-cross-origin\" allowfullscreen></iframe>"
   ]
  },
  {
   "cell_type": "code",
   "execution_count": 1,
   "id": "0934c46b-aac9-411f-a3db-cb08bbd1d547",
   "metadata": {},
   "outputs": [
    {
     "data": {
      "text/x-python": [
       "\n",
       "\n",
       "(\"\"\"macro functions used to create elements in this document.\n",
       "it would make the most sense to move this out into a standalone script.\"\"\")\n",
       "\n",
       "def details(summary, body, open=False):\n",
       "    return (\n",
       "    (__import__(\"importlib\").metadata.EntryPoint(None, \"midgy.types:HTML\", None).load()( # ```html\n",
       "\"\"\"<details{open}>\n",
       "    <summary>{summary}</summary>\n",
       "    {body}\n",
       "</details>\n",
       "\"\"\")) # ```\n",
       "    ).format(**locals())\n",
       "\n",
       "def iframe(summary, url, open=False):\n",
       "    (\"\"\"create a lazy loading iframe. lazy loading is helpful for progressively and optionally loading content.\"\"\")\n",
       "\n",
       "    open= open and \" open\" or \"\"\n",
       "    width, height = \"100%\", 600\n",
       "    if \"youtube\" in url:\n",
       "        width, height = 560, 315\n",
       "    return (\n",
       "    (__import__(\"importlib\").metadata.EntryPoint(None, \"midgy.types:HTML\", None).load()( # ```html\n",
       "\"\"\"<details{open}>\n",
       "    <summary>{summary}</summary>\n",
       "<iframe width=\\\"{width}\\\" height=\\\"{height}\\\" loading=lazy src=\\\"{url}\\\"></iframe>\n",
       "</details>\n",
       "\"\"\")) # ```\n",
       "    ).format(**locals()).strip()\n",
       "\n",
       "def quote(quote=\"\", caption=\"\", url=\"\"):\n",
       "    (\"\"\"a quoted phrase with a caption\"\"\")\n",
       "\n",
       "    link = url and \"\" or \"visit source\"\n",
       "    return (\n",
       "    (__import__(\"importlib\").metadata.EntryPoint(None, \"midgy.types:HTML\", None).load()( # ```html\n",
       "\"\"\"<figure>\n",
       "<blockquote cite=\\\"{url}\\\">{quote}</blockquote>\n",
       "<figcaption>{caption} <a href=\\\"{url}\\\">{link}</a></figcaption>\n",
       "</figure>\n",
       "\"\"\")) # ```\n",
       "    ).format(**locals())\n",
       "\n",
       "\n",
       "def clip(url, title, open=False):\n",
       "    open = open and \" open\" or \"\"\n",
       "    return (\n",
       "    (__import__(\"importlib\").metadata.EntryPoint(None, \"midgy.types:HTML\", None).load()( # ```html\n",
       "\"\"\"<details{open}>\n",
       "<summary>\n",
       "youtube clip: {title}\n",
       "</summary>\n",
       "<iframe width=\\\"50%\\\" height=\\\"600\\\" loading=lazy src=\\\"{url}\\\" title=\\\"{title}\\\" frameborder=\\\"0\\\" allow=\\\"accelerometer; autoplay; clipboard-write; encrypted-media; gyroscope; picture-in-picture; web-share\\\" referrerpolicy=\\\"strict-origin-when-cross-origin\\\" allowfullscreen></iframe>\n",
       "</details>\n",
       "</figure>\n",
       "\"\"\")) # ```\n",
       "    ).format(**locals())\n"
      ]
     },
     "metadata": {},
     "output_type": "display_data"
    }
   ],
   "source": [
    "%run init.ipynb"
   ]
  },
  {
   "cell_type": "code",
   "execution_count": 3,
   "id": "0e9dd133-07ff-4abb-afb8-38d1f972674e",
   "metadata": {},
   "outputs": [
    {
     "data": {
      "text/html": [
       "<h2>hypermedia/hyper text - ted nelson - project xanadu</h2>\n",
       "<details open>\n",
       "    <summary>project xanadu</summary>\n",
       "<iframe width=\"100%\" height=\"600\" loading=lazy src=\"https://en.wikipedia.org/wiki/Project_Xanadu\"></iframe>\n",
       "</details>\n",
       "<h2>movable type</h2>\n",
       "<p>type is a natural resource</p>\n",
       "<h2>tabular forms</h2>\n",
       "<p>tables are natural resources</p>\n"
      ],
      "text/x-python": [
       "\n",
       "(\"\"\"## hypermedia/hyper text - ted nelson - project xanadu\n",
       "\n",
       "{{iframe(\n",
       "    \\\"project xanadu\\\",\n",
       "    \\\"https://en.wikipedia.org/wiki/Project_Xanadu\\\",\n",
       "    True\n",
       ")}}\n",
       "\n",
       "## movable type\n",
       "\n",
       "type is a natural resource\n",
       "\n",
       "## tabular forms\n",
       "\n",
       "tables are natural resources\"\"\");\n"
      ]
     },
     "metadata": {},
     "output_type": "display_data"
    }
   ],
   "source": [
    "%%\n",
    "## hypermedia/hyper text - ted nelson - project xanadu\n",
    "\n",
    "{{iframe(\n",
    "    \"project xanadu\",\n",
    "    \"https://en.wikipedia.org/wiki/Project_Xanadu\",\n",
    "    True\n",
    ")}}\n",
    "\n",
    "## movable type\n",
    "\n",
    "type is a natural resource\n",
    "\n",
    "## tabular forms\n",
    "\n",
    "tables are natural resources"
   ]
  },
  {
   "cell_type": "markdown",
   "id": "3fd85039-8aa3-4c5c-a763-80dbd07adeac",
   "metadata": {},
   "source": [
    "## camera obscura and on ward\n",
    "\n",
    "## industrial revolution\n",
    "\n",
    "## modernism - reeling from world war 1\n",
    "\n",
    "### bauhaus school\n",
    "\n",
    "### bauhaus diaspora\n",
    "\n",
    "#### silence\n",
    "\n",
    "## mother of all demos\n",
    "\n",
    "## apollo 11\n",
    "\n",
    "## powers of ten"
   ]
  },
  {
   "cell_type": "markdown",
   "id": "8d6cd63e-6b99-4fdc-81f1-2e530cdb2a5d",
   "metadata": {},
   "source": [
    "* write a work with at least two different kinds of media with narrative.\n",
    "\n",
    "  ### examples\n",
    "  \n",
    "  * [all the displays]\n",
    "\n",
    "* write a work using magics\n"
   ]
  },
  {
   "cell_type": "code",
   "execution_count": null,
   "id": "8ab4624b-8e55-4a64-8a95-bc37f2062b04",
   "metadata": {},
   "outputs": [],
   "source": [
    "## captioning\n",
    "\n",
    "plain text"
   ]
  },
  {
   "cell_type": "code",
   "execution_count": null,
   "id": "ac05774f-18c7-4f79-b137-bbd639f15067",
   "metadata": {},
   "outputs": [],
   "source": []
  }
 ],
 "metadata": {
  "kernelspec": {
   "display_name": "Python [conda env:p311] *",
   "language": "python",
   "name": "conda-env-p311-py"
  },
  "language_info": {
   "codemirror_mode": {
    "name": "ipython",
    "version": 3
   },
   "file_extension": ".py",
   "mimetype": "text/x-python",
   "name": "python",
   "nbconvert_exporter": "python",
   "pygments_lexer": "ipython3",
   "version": "3.11.6"
  },
  "widgets": {
   "application/vnd.jupyter.widget-state+json": {
    "state": {},
    "version_major": 2,
    "version_minor": 0
   }
  }
 },
 "nbformat": 4,
 "nbformat_minor": 5
}
