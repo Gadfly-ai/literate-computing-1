{
 "cells": [
  {
   "cell_type": "markdown",
   "id": "ec9a870f-7269-49bc-8890-9d44acff4a80",
   "metadata": {},
   "source": [
    "# hyper-literacy machines\n",
    "\n",
    "history is a writing tool."
   ]
  },
  {
   "cell_type": "code",
   "execution_count": 1,
   "id": "0934c46b-aac9-411f-a3db-cb08bbd1d547",
   "metadata": {},
   "outputs": [
    {
     "data": {
      "text/x-python": [
       "\n",
       "\n",
       "(\"\"\"macro functions used to create elements in this document.\n",
       "it would make the most sense to move this out into a standalone script.\"\"\")\n",
       "\n",
       "def details(summary, body, open=False):\n",
       "    return (\n",
       "    (__import__(\"importlib\").metadata.EntryPoint(None, \"midgy.types:HTML\", None).load()( # ```html\n",
       "\"\"\"<details{open}>\n",
       "    <summary>{summary}</summary>\n",
       "    {body}\n",
       "</details>\n",
       "\"\"\")) # ```\n",
       "    ).format(**locals())\n",
       "\n",
       "def iframe(summary, url, open=False):\n",
       "    (\"\"\"create a lazy loading iframe. lazy loading is helpful for progressively and optionally loading content.\"\"\")\n",
       "\n",
       "    open= open and \" open\" or \"\"\n",
       "    width, height = \"100%\", 600\n",
       "    if \"youtube\" in url:\n",
       "        width, height = 560, 315\n",
       "    return (\n",
       "    (__import__(\"importlib\").metadata.EntryPoint(None, \"midgy.types:HTML\", None).load()( # ```html\n",
       "\"\"\"<details{open}>\n",
       "    <summary>{summary}</summary>\n",
       "<iframe width=\\\"{width}\\\" height=\\\"{height}\\\" loading=lazy src=\\\"{url}\\\"></iframe>\n",
       "</details>\n",
       "\"\"\")) # ```\n",
       "    ).format(**locals()).strip()\n",
       "\n",
       "def quote(quote=\"\", caption=\"\", url=\"\"):\n",
       "    (\"\"\"a quoted phrase with a caption\"\"\")\n",
       "\n",
       "    link = url and \"\" or \"visit source\"\n",
       "    return (\n",
       "    (__import__(\"importlib\").metadata.EntryPoint(None, \"midgy.types:HTML\", None).load()( # ```html\n",
       "\"\"\"<figure>\n",
       "<blockquote cite=\\\"{url}\\\">{quote}</blockquote>\n",
       "<figcaption>{caption} <a href=\\\"{url}\\\">{link}</a></figcaption>\n",
       "</figure>\n",
       "\"\"\")) # ```\n",
       "    ).format(**locals())\n",
       "\n",
       "\n",
       "def clip(url, title, open=False):\n",
       "    open = open and \" open\" or \"\"\n",
       "    return (\n",
       "    (__import__(\"importlib\").metadata.EntryPoint(None, \"midgy.types:HTML\", None).load()( # ```html\n",
       "\"\"\"<details{open}>\n",
       "<summary>\n",
       "youtube clip: {title}\n",
       "</summary>\n",
       "<iframe width=\\\"50%\\\" height=\\\"600\\\" loading=lazy src=\\\"{url}\\\" title=\\\"{title}\\\" frameborder=\\\"0\\\" allow=\\\"accelerometer; autoplay; clipboard-write; encrypted-media; gyroscope; picture-in-picture; web-share\\\" referrerpolicy=\\\"strict-origin-when-cross-origin\\\" allowfullscreen></iframe>\n",
       "</details>\n",
       "</figure>\n",
       "\"\"\")) # ```\n",
       "    ).format(**locals())\n"
      ]
     },
     "metadata": {},
     "output_type": "display_data"
    }
   ],
   "source": [
    "%run init.ipynb"
   ]
  },
  {
   "cell_type": "markdown",
   "id": "208a6b10-c920-42fe-978e-09507f7fc925",
   "metadata": {},
   "source": [
    "## Hypermedia/Hyper text - Ted Nelson - Project Xanadu\n",
    "\n",
    "## movable type\n",
    "\n",
    "type is a natural resource\n",
    "\n",
    "## tabular forms\n",
    "\n",
    "tables are natural resources"
   ]
  },
  {
   "cell_type": "markdown",
   "id": "3fd85039-8aa3-4c5c-a763-80dbd07adeac",
   "metadata": {},
   "source": [
    "## camera obscura and on ward\n",
    "\n",
    "## industrial revolution\n",
    "\n",
    "## modernism - reeling from world war 1\n",
    "\n",
    "### bauhaus school\n",
    "\n",
    "### bauhaus diaspora\n",
    "\n",
    "#### silence\n",
    "\n",
    "## mother of all demos\n",
    "\n",
    "## apollo 11\n",
    "\n",
    "## powers of ten"
   ]
  },
  {
   "cell_type": "markdown",
   "id": "8d6cd63e-6b99-4fdc-81f1-2e530cdb2a5d",
   "metadata": {},
   "source": [
    "* write a work with at least two different kinds of media with narrative.\n",
    "\n",
    "  ### examples\n",
    "  \n",
    "  * [all the displays]\n",
    "\n",
    "* write a work using magics\n"
   ]
  },
  {
   "cell_type": "code",
   "execution_count": null,
   "id": "8ab4624b-8e55-4a64-8a95-bc37f2062b04",
   "metadata": {},
   "outputs": [],
   "source": [
    "## captioning\n",
    "\n",
    "plain text"
   ]
  },
  {
   "cell_type": "code",
   "execution_count": null,
   "id": "ac05774f-18c7-4f79-b137-bbd639f15067",
   "metadata": {},
   "outputs": [],
   "source": []
  }
 ],
 "metadata": {
  "kernelspec": {
   "display_name": "Python [conda env:p311] *",
   "language": "python",
   "name": "conda-env-p311-py"
  },
  "language_info": {
   "codemirror_mode": {
    "name": "ipython",
    "version": 3
   },
   "file_extension": ".py",
   "mimetype": "text/x-python",
   "name": "python",
   "nbconvert_exporter": "python",
   "pygments_lexer": "ipython3",
   "version": "3.11.6"
  },
  "widgets": {
   "application/vnd.jupyter.widget-state+json": {
    "state": {},
    "version_major": 2,
    "version_minor": 0
   }
  }
 },
 "nbformat": 4,
 "nbformat_minor": 5
}
