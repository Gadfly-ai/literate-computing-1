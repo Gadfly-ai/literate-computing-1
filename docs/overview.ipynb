{
 "cells": [
  {
   "cell_type": "markdown",
   "id": "3d052466-53c0-4ed3-aa36-3fed973e3e25",
   "metadata": {},
   "source": [
    "# course overview and writing literate programs\n",
    "\n",
    "the primary document used for the first [gadfly] writers workshop series.\n",
    "this document contains references to documents in different technology and humanities timelines.\n",
    "we learn to tangle and weave theory together from these histories to design new computational\n",
    "media for ourselves and others."
   ]
  },
  {
   "cell_type": "markdown",
   "id": "8ee68915-6cca-48cc-91c1-656ff6899339",
   "metadata": {},
   "source": [
    "## writer's workshop overview"
   ]
  },
  {
   "cell_type": "markdown",
   "id": "91f51656-f4d0-49ef-84ab-308da1ac3694",
   "metadata": {},
   "source": [
    "the writers workshop is a creative workshop to build and practice writing muscles over 6 weeks. \n",
    "we'll learn to write progressive technical content with computational and literary qualities. \n",
    "we'll learn how to compose hypermedia into accessible sensory experiences. \n",
    "we'll learn to enjoy confidence in writing and sharing our work.\n",
    "together we'll become more fluent in our ability to discuss software through discourse and critique.\n",
    "\n",
    "NOTE\n",
    ": the schedule below if for a monday class from 7pm-9pm pst. \n",
    "we need to be around this time to teach a time zone friendly course.\n",
    "\n",
    "\n",
    "| course| day | topic  |\n",
    "|-----|--------|-----------------------------------|\n",
    "|   1 |  10/21 | writing accessible literate programs  |\n",
    "|   2 |  10/28 | telling stories with hypermedia in many languages |\n",
    "|   3 |  11/04 | collaging hypermedia to tell stories |\n",
    "|   4 |  11/11 | critiquing, testing, and publishing accessible programs |\n",
    "|   5 |  11/18 | performing your brand and work |\n",
    "|   6 |  11/25 | five minute <dfn>lightning talks</dfn> to share you and your work |\n",
    "|  -  | 11/28 | national day of morning |\n",
    "|  7  | 12/-  | [optional] writers workshop zine live stream dry run |\n",
    "|  8  | 12/-  | writers workship zine live stream |\n",
    "|  -  | 12/25 | christmas / hanukkah |\n",
    "\n",
    "following 6 weeks of course work and writing practice we'll break for a few weeks. during that time gadfly will work asynchronously with the class \n",
    "to refine their author bio's (ie github profiles) and edit their works for the zine. members of the course will leave this course with portfolio material and\n",
    "shared authorship with the rest of the course.\n",
    "\n",
    "it is critical that folks can commit to being present during the weekly courses.\n",
    "these are the times when our community comes together to play and we\n",
    "want to foster a better environment of the cohort to write in."
   ]
  },
  {
   "cell_type": "markdown",
   "id": "8aa0c711-7566-4a84-8ec1-a50272eb2765",
   "metadata": {},
   "source": [
    "## primary services we'll use\n",
    "\n",
    "| service | use | \n",
    "|------|-----|\n",
    "| [discord] | all discussions and classes, it is a popular desktop and mobile interface |\n",
    "| [github] | course content management and discussions |"
   ]
  },
  {
   "cell_type": "code",
   "execution_count": 1,
   "id": "327d9254-1d84-49d0-ab73-fe56ffbd5d1e",
   "metadata": {},
   "outputs": [
    {
     "data": {
      "text/x-python": [
       "\n",
       "\n",
       "(\"\"\"macro functions used to create elements in this document.\n",
       "it would make the most sense to move this out into a standalone script.\"\"\")\n",
       "\n",
       "def details(summary, body, open=False):\n",
       "    return (\n",
       "    (__import__(\"importlib\").metadata.EntryPoint(None, \"midgy.types:HTML\", None).load()( # ```html\n",
       "\"\"\"<details{open}>\n",
       "    <summary>{summary}</summary>\n",
       "    {body}\n",
       "</details>\n",
       "\"\"\")) # ```\n",
       "    ).format(**locals())\n",
       "\n",
       "def iframe(summary, url, open=False):\n",
       "    (\"\"\"create a lazy loading iframe. lazy loading is helpful for progressively and optionally loading content.\"\"\")\n",
       "\n",
       "    open= open and \" open\" or \"\"\n",
       "    width, height = \"100%\", 600\n",
       "    if \"youtube\" in url:\n",
       "        width, height = 560, 315\n",
       "    return (\n",
       "    (__import__(\"importlib\").metadata.EntryPoint(None, \"midgy.types:HTML\", None).load()( # ```html\n",
       "\"\"\"<details{open}>\n",
       "    <summary>{summary}</summary>\n",
       "<iframe width=\\\"{width}\\\" height=\\\"{height}\\\" loading=lazy src=\\\"{url}\\\"></iframe>\n",
       "</details>\n",
       "\"\"\")) # ```\n",
       "    ).format(**locals()).strip()\n",
       "\n",
       "def quote(quote=\"\", caption=\"\", url=\"\"):\n",
       "    (\"\"\"a quoted phrase with a caption\"\"\")\n",
       "\n",
       "    link = url and \"\" or \"visit source\"\n",
       "    return (\n",
       "    (__import__(\"importlib\").metadata.EntryPoint(None, \"midgy.types:HTML\", None).load()( # ```html\n",
       "\"\"\"<figure>\n",
       "<blockquote cite=\\\"{url}\\\">{quote}</blockquote>\n",
       "<figcaption>{caption} <a href=\\\"{url}\\\">{link}</a></figcaption>\n",
       "</figure>\n",
       "\"\"\")) # ```\n",
       "    ).format(**locals())\n",
       "\n",
       "\n",
       "def clip(url, title, open=False):\n",
       "    open = open and \" open\" or \"\"\n",
       "    return (\n",
       "    (__import__(\"importlib\").metadata.EntryPoint(None, \"midgy.types:HTML\", None).load()( # ```html\n",
       "\"\"\"<details{open}>\n",
       "<summary>\n",
       "youtube clip: {title}\n",
       "</summary>\n",
       "<iframe width=\\\"50%\\\" height=\\\"600\\\" loading=lazy src=\\\"{url}\\\" title=\\\"{title}\\\" frameborder=\\\"0\\\" allow=\\\"accelerometer; autoplay; clipboard-write; encrypted-media; gyroscope; picture-in-picture; web-share\\\" referrerpolicy=\\\"strict-origin-when-cross-origin\\\" allowfullscreen></iframe>\n",
       "</details>\n",
       "</figure>\n",
       "\"\"\")) # ```\n",
       "    ).format(**locals())\n"
      ]
     },
     "metadata": {},
     "output_type": "display_data"
    }
   ],
   "source": [
    "    %run init.ipynb"
   ]
  },
  {
   "cell_type": "code",
   "execution_count": 2,
   "id": "110c3a93-64aa-4355-9ebb-3041c7374e39",
   "metadata": {},
   "outputs": [
    {
     "data": {
      "text/html": [
       "<h3>CLASS: a mentor will walk through the discord interface</h3>\n",
       "<ul>\n",
       "<li>\n",
       "<p><a href=\"https://youtu.be/ESz8Cvirh00\">we'll listen to sounds of the universe, specifically, westerlund 2 from nasa's sonifications as a discord activity</a> - <a href=\"https://youtu.be/ESz8Cvirh00\">https://youtu.be/ESz8Cvirh00</a></p>\n",
       "<details>\n",
       "     <summary>a collection of NASA sonfications of galaxy data</summary>\n",
       " <iframe width=\"100%\" height=\"600\" loading=lazy src=\"https://science.nasa.gov/mission/hubble/multimedia/sonifications/\"></iframe>\n",
       " </details>\n",
       "</li>\n",
       "<li>\n",
       "<p>teach discord folks leave an activity</p>\n",
       "</li>\n",
       "<li>\n",
       "<p>show where the events are</p>\n",
       "<ul>\n",
       "<li>indicate how to notice an active event</li>\n",
       "<li>indicate interest in an event</li>\n",
       "</ul>\n",
       "</li>\n",
       "<li>\n",
       "<p>describe the different rooms we've made</p>\n",
       "<ul>\n",
       "<li>...</li>\n",
       "<li>...</li>\n",
       "</ul>\n",
       "</li>\n",
       "</ul>\n",
       "<p>TODO: add images and tab stop counts</p>\n"
      ],
      "text/x-python": [
       "\n",
       "(\"\"\"### CLASS: a mentor will walk through the discord interface\n",
       "\n",
       "* [we'll listen to sounds of the universe, specifically, westerlund 2 from nasa's sonifications as a discord activity](https://youtu.be/ESz8Cvirh00) - https://youtu.be/ESz8Cvirh00\n",
       "\n",
       "  {{iframe(\\\"a collection of NASA sonfications of galaxy data\\\", \\\"https://science.nasa.gov/mission/hubble/multimedia/sonifications/\\\") | indent(3)}}\n",
       "\n",
       "* teach discord folks leave an activity\n",
       "* show where the events are\n",
       "    * indicate how to notice an active event\n",
       "    * indicate interest in an event\n",
       "* describe the different rooms we've made\n",
       "    * ...\n",
       "    * ...\n",
       "\n",
       "TODO: add images and tab stop counts\"\"\");\n"
      ]
     },
     "metadata": {},
     "output_type": "display_data"
    }
   ],
   "source": [
    "%%\n",
    "### CLASS: a mentor will walk through the discord interface\n",
    "\n",
    "* [we'll listen to sounds of the universe, specifically, westerlund 2 from nasa's sonifications as a discord activity](https://youtu.be/ESz8Cvirh00) - https://youtu.be/ESz8Cvirh00\n",
    "\n",
    "  {{iframe(\"a collection of NASA sonfications of galaxy data\", \"https://science.nasa.gov/mission/hubble/multimedia/sonifications/\") | indent(3)}}\n",
    "\n",
    "* teach discord folks leave an activity\n",
    "* show where the events are\n",
    "    * indicate how to notice an active event\n",
    "    * indicate interest in an event\n",
    "* describe the different rooms we've made\n",
    "    * ...\n",
    "    * ...\n",
    "\n",
    "TODO: add images and tab stop counts"
   ]
  },
  {
   "cell_type": "markdown",
   "id": "3ba3473f-10cf-4ac7-b94e-2448bfebca41",
   "metadata": {},
   "source": [
    "the mentors in this class are another service you have access to.\n",
    "\n",
    "| mentor | role | \n",
    "|--------|-------|\n",
    "| [@tonyfast](https://github.com/tonyfast) | teacher/architect |\n",
    "| [@sayantikabanik](https://github.com/sayantikabanik) | teaching assistant |\n",
    "| [@maveraw](https://github.com/maveraw) | class representative |\n",
    "\n",
    "### CLASS: mentors will share their github profiles with their gadfly role, experience, and boundaries."
   ]
  }
 ],
 "metadata": {
  "kernelspec": {
   "display_name": "Python [conda env:p311] *",
   "language": "python",
   "name": "conda-env-p311-py"
  },
  "language_info": {
   "codemirror_mode": {
    "name": "ipython",
    "version": 3
   },
   "file_extension": ".py",
   "mimetype": "text/x-python",
   "name": "python",
   "nbconvert_exporter": "python",
   "pygments_lexer": "ipython3",
   "version": "3.11.6"
  },
  "widgets": {
   "application/vnd.jupyter.widget-state+json": {
    "state": {},
    "version_major": 2,
    "version_minor": 0
   }
  }
 },
 "nbformat": 4,
 "nbformat_minor": 5
}
