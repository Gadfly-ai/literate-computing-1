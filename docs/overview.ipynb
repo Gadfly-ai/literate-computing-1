{
 "cells": [
  {
   "cell_type": "markdown",
   "id": "3d052466-53c0-4ed3-aa36-3fed973e3e25",
   "metadata": {},
   "source": [
    "# course overview and writing literate programs\n",
    "\n",
    "the primary document used for the first gadfly writers workshop series.\n",
    "this document contains references to documents in different technology and humanities timelines.\n",
    "we learn to tangle and weave theory together from these histories to design new computational\n",
    "media for ourselves and others."
   ]
  },
  {
   "cell_type": "markdown",
   "id": "8ee68915-6cca-48cc-91c1-656ff6899339",
   "metadata": {},
   "source": [
    "## writer's workshop overview"
   ]
  },
  {
   "cell_type": "markdown",
   "id": "91f51656-f4d0-49ef-84ab-308da1ac3694",
   "metadata": {},
   "source": [
    "the writers workshop is a creative workshop to build and practice writing muscles over 6 weeks. \n",
    "we'll learn to write progressive technical content with computational and literary qualities. \n",
    "we'll learn how to compose hypermedia into accessible sensory experiences. \n",
    "we'll become enjoy writing and sharing our work.\n",
    "together we'll become more fluent in our ability to discuss software through discourse and critique.\n",
    "\n",
    "NOTE\n",
    ": the schedule below if for a friday class from 9am-11am. \n",
    "we need to be around this time to teach a time zone friendly course.\n",
    "\n",
    "\n",
    "| course| day | topic  |\n",
    "|-----|--------|-----------------------------------|\n",
    "|   1 |  10/18 | writing accessible literate programs  |\n",
    "|   2 |  10/25 | telling stories with hypermedia in many languages |\n",
    "|   3 |  11/02 | collaging hypermedia to tell stories |\n",
    "|   4 |  11/09 | critiquing, testing, and publishing accessible programs |\n",
    "|   5 |  11/16 | performing your brand and work |\n",
    "|   6 |  11/23 | five minute <dfn>lightning talks</dfn> to share you and your work |\n",
    "|  -  | 11/28 | national day of morning |\n",
    "|  7  | 12/-  | [optional] writers workshop zine live stream dry run |\n",
    "|  8  | 12/-  | writers workship zine live stream |\n",
    "|  -  | 12/25 | christmas / hanukkah |\n",
    "\n",
    "following 6 weeks of course work and writing practice we'll break for a few weeks. during that time gadfly will work asynchronously with the class \n",
    "to refine their author bio's (ie github profiles) and edit their works for the zine. members of the course will leave this course with portfolio material and\n",
    "shared authorship with the rest of the course.\n",
    "\n",
    "it is critical that folks can commit to being present during the weekly courses.\n",
    "these are the times when our community comes together to play and we\n",
    "want to foster a better environment of the cohort to write in."
   ]
  },
  {
   "cell_type": "markdown",
   "id": "8aa0c711-7566-4a84-8ec1-a50272eb2765",
   "metadata": {},
   "source": [
    "## primary services we'll use\n",
    "\n",
    "| service | use | \n",
    "|------|-----|\n",
    "| discord | all discussions and classes, it is a popular desktop and mobile interface |\n",
    "| github | course content management and discussions |\n",
    "| youtube | course video storage and replay |"
   ]
  },
  {
   "cell_type": "markdown",
   "id": "4d699ae4-218a-44ea-a55c-ab7fb0c11096",
   "metadata": {},
   "source": [
    "### ACTION: a mentor will walk through the discord interface\n",
    "\n",
    "* [we'll listen to sounds of the universe, specifically, westerlund 2 from nasa's sonifications](https://youtu.be/ESz8Cvirh00) - https://youtu.be/ESz8Cvirh00\n",
    "\n",
    "  https://science.nasa.gov/mission/hubble/multimedia/sonifications/\n",
    "\n",
    "  QUESTION:\n",
    "\n",
    "\n",
    "* teach people leave an activity\n",
    "\n",
    "* show where the events are\n",
    "* describe the different rooms we've made"
   ]
  },
  {
   "cell_type": "markdown",
   "id": "3ba3473f-10cf-4ac7-b94e-2448bfebca41",
   "metadata": {},
   "source": [
    "the mentors in this class are another service you have access to.\n",
    "\n",
    "| mentor | role | \n",
    "|--------|-------|\n",
    "| [@tonyfast](https://github.com/tonyfast) |\n",
    "| [@sayantikabanik](https://github.com/sayantikabanik) |\n",
    "| [@maveraw](https://github.com/maveraw) |\n",
    "\n",
    "### ACTION: mentors will share their github profiles with their gadfly role, experience, and boundaries."
   ]
  },
  {
   "cell_type": "markdown",
   "id": "7bac9d91-6606-4a1a-a987-e568b3c6d33c",
   "metadata": {},
   "source": [
    "## compassionate critique quideline #1 - <q>that sucks</q>"
   ]
  }
 ],
 "metadata": {
  "kernelspec": {
   "display_name": "Python [conda env:p311] *",
   "language": "python",
   "name": "conda-env-p311-py"
  },
  "language_info": {
   "codemirror_mode": {
    "name": "ipython",
    "version": 3
   },
   "file_extension": ".py",
   "mimetype": "text/x-python",
   "name": "python",
   "nbconvert_exporter": "python",
   "pygments_lexer": "ipython3",
   "version": "3.11.6"
  },
  "widgets": {
   "application/vnd.jupyter.widget-state+json": {
    "state": {},
    "version_major": 2,
    "version_minor": 0
   }
  }
 },
 "nbformat": 4,
 "nbformat_minor": 5
}
