{
 "cells": [
  {
   "cell_type": "markdown",
   "id": "48ca56c7-d0d6-42e8-a2dc-84ca9be526a5",
   "metadata": {},
   "source": [
    "# notes for authors and editors"
   ]
  },
  {
   "cell_type": "markdown",
   "id": "a4c3e125-bfec-4a61-acf1-17fb12b90ea5",
   "metadata": {},
   "source": [
    "## notes for reviewers\n",
    "\n",
    "first, thanks for giving a look. \n",
    "this document is written in a markdown forward literate programming language\n",
    "tony wrote called `midgy`. he needs to make it easier for y'all to develop with.\n",
    "\n",
    "* `TODO` - indicates content that needs to be added.\n",
    "* `NOTE` - content that should be presented to the class.\n",
    "* `STUB` - a region that needs more exposition and editting.\n",
    "* rendered text contained in square braces indicate a placeholder for a missing link\n",
    "* please add generic references and how-to's to the [marginalia](#marginalia)\n",
    "\n",
    "this draft is meant to be a backbone to build a decolonized, accessible computational course from.\n",
    "it needs more voices. please suggest more references that would create a more age and cultural diversity.\n",
    "\n",
    "- [x] make this work on colab\n",
    "- [ ] make this work on huggingface\n",
    "- [ ] verify table of contents makes sense"
   ]
  },
  {
   "cell_type": "markdown",
   "id": "280e26ca-18a6-48b6-ab97-54ed5a6139d2",
   "metadata": {},
   "source": []
  }
 ],
 "metadata": {
  "kernelspec": {
   "display_name": "Python [conda env:p311] *",
   "language": "python",
   "name": "conda-env-p311-py"
  },
  "language_info": {
   "codemirror_mode": {
    "name": "ipython",
    "version": 3
   },
   "file_extension": ".py",
   "mimetype": "text/x-python",
   "name": "python",
   "nbconvert_exporter": "python",
   "pygments_lexer": "ipython3",
   "version": "3.11.6"
  },
  "widgets": {
   "application/vnd.jupyter.widget-state+json": {
    "state": {},
    "version_major": 2,
    "version_minor": 0
   }
  }
 },
 "nbformat": 4,
 "nbformat_minor": 5
}
